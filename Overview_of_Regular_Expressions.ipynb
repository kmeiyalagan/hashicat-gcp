{
  "cells": [
    {
      "cell_type": "markdown",
      "metadata": {
        "id": "view-in-github",
        "colab_type": "text"
      },
      "source": [
        "<a href=\"https://colab.research.google.com/github/kmeiyalagan/hashicat-gcp/blob/master/Overview_of_Regular_Expressions.ipynb\" target=\"_parent\"><img src=\"https://colab.research.google.com/assets/colab-badge.svg\" alt=\"Open In Colab\"/></a>"
      ]
    },
    {
      "cell_type": "markdown",
      "metadata": {
        "id": "9kpys4XVQeWE"
      },
      "source": [
        "# Overview of Regular Expressions\n",
        "\n",
        "Regular Expressions (sometimes called regex for short) allows a user to search for strings using almost any sort of rule they can come up. For example, finding all capital letters in a string, or finding a phone number in a document. \n",
        "\n",
        "Regular expressions are notorious for their seemingly strange syntax. This strange syntax is a byproduct of their flexibility. Regular expressions have to be able to filter out any string pattern you can imagine, which is why they have a complex string pattern format."
      ]
    },
    {
      "cell_type": "markdown",
      "metadata": {
        "id": "k34rx24sQeWF"
      },
      "source": [
        "Let's begin by explaining how to search for basic patterns in a string!"
      ]
    },
    {
      "cell_type": "markdown",
      "metadata": {
        "id": "m3NvcMKAQeWG"
      },
      "source": [
        "## Searching for Basic Patterns\n",
        "\n",
        "Let's imagine that we have the following string:"
      ]
    },
    {
      "cell_type": "code",
      "source": [
        "text = \"The person's phone number is 408-555-1234. Call Soon!\""
      ],
      "metadata": {
        "id": "uhYLjjJtAh2X"
      },
      "execution_count": null,
      "outputs": []
    },
    {
      "cell_type": "markdown",
      "metadata": {
        "id": "RQzmmKBsQeWH"
      },
      "source": [
        "We'll start off by trying to find out if the string \"phone\" is inside the text string. Now we could quickly do this with:"
      ]
    },
    {
      "cell_type": "code",
      "source": [
        "'phone' in text"
      ],
      "metadata": {
        "colab": {
          "base_uri": "https://localhost:8080/"
        },
        "id": "pau4gtL6A96r",
        "outputId": "8d2df64c-791d-4344-d198-0ff568167871"
      },
      "execution_count": null,
      "outputs": [
        {
          "output_type": "execute_result",
          "data": {
            "text/plain": [
              "True"
            ]
          },
          "metadata": {},
          "execution_count": 2
        }
      ]
    },
    {
      "cell_type": "markdown",
      "metadata": {
        "id": "tV0X4H4CQeWI"
      },
      "source": [
        "But let's show the format for regular expressions, because later on we will be searching for patterns that won't have such a simple solution."
      ]
    },
    {
      "cell_type": "code",
      "source": [
        "import re"
      ],
      "metadata": {
        "id": "rMwsOYJkBGR_"
      },
      "execution_count": null,
      "outputs": []
    },
    {
      "cell_type": "code",
      "source": [
        "pattern = 'phone'"
      ],
      "metadata": {
        "id": "f5iZ-yU4BINO"
      },
      "execution_count": null,
      "outputs": []
    },
    {
      "cell_type": "code",
      "source": [
        "re.search(pattern,text)"
      ],
      "metadata": {
        "colab": {
          "base_uri": "https://localhost:8080/"
        },
        "id": "xbBJxkyyBL1r",
        "outputId": "38a71286-2fbc-468b-927b-62a3e408cfde"
      },
      "execution_count": null,
      "outputs": [
        {
          "output_type": "execute_result",
          "data": {
            "text/plain": [
              "<re.Match object; span=(13, 18), match='phone'>"
            ]
          },
          "metadata": {},
          "execution_count": 5
        }
      ]
    },
    {
      "cell_type": "code",
      "source": [
        "pattern = 'NOT IN TEXT'"
      ],
      "metadata": {
        "id": "RZ7d8DTcBY8e"
      },
      "execution_count": null,
      "outputs": []
    },
    {
      "cell_type": "code",
      "source": [
        "re.search(pattern,text)"
      ],
      "metadata": {
        "id": "53fVvbeGBdqs"
      },
      "execution_count": null,
      "outputs": []
    },
    {
      "cell_type": "markdown",
      "metadata": {
        "id": "-gvOiAB8QeWK"
      },
      "source": [
        "Now we've seen that re.search() will take the pattern, scan the text, and then returns a Match object. If no pattern is found, a None is returned (in Jupyter Notebook this just means that nothing is output below the cell).\n",
        "\n",
        "Let's take a closer look at this Match object."
      ]
    },
    {
      "cell_type": "code",
      "source": [
        "pattern = 'phone'"
      ],
      "metadata": {
        "id": "parpp0clBmO-"
      },
      "execution_count": null,
      "outputs": []
    },
    {
      "cell_type": "code",
      "source": [
        "match = re.search(pattern,text)"
      ],
      "metadata": {
        "id": "3ivqcjqjBLXe"
      },
      "execution_count": null,
      "outputs": []
    },
    {
      "cell_type": "code",
      "source": [
        "match"
      ],
      "metadata": {
        "colab": {
          "base_uri": "https://localhost:8080/"
        },
        "id": "iSUh_wiLBsGm",
        "outputId": "291292c0-69cc-4a87-fed4-ec02a7f703e5"
      },
      "execution_count": null,
      "outputs": [
        {
          "output_type": "execute_result",
          "data": {
            "text/plain": [
              "<re.Match object; span=(13, 18), match='phone'>"
            ]
          },
          "metadata": {},
          "execution_count": 10
        }
      ]
    },
    {
      "cell_type": "markdown",
      "metadata": {
        "id": "GZh1PS2QQeWL"
      },
      "source": [
        "Notice the span, there is also a start and end index information."
      ]
    },
    {
      "cell_type": "code",
      "source": [
        "match.span()"
      ],
      "metadata": {
        "colab": {
          "base_uri": "https://localhost:8080/"
        },
        "id": "Pv6Jvzl7BvjA",
        "outputId": "fb8bd751-9faa-4300-e297-264fed3a0d7d"
      },
      "execution_count": null,
      "outputs": [
        {
          "output_type": "execute_result",
          "data": {
            "text/plain": [
              "(3, 8)"
            ]
          },
          "metadata": {},
          "execution_count": 17
        }
      ]
    },
    {
      "cell_type": "code",
      "source": [
        "match.start()"
      ],
      "metadata": {
        "colab": {
          "base_uri": "https://localhost:8080/"
        },
        "id": "hGlnJvCQBxte",
        "outputId": "d915711b-d42f-4336-e161-5aea2d7cd665"
      },
      "execution_count": null,
      "outputs": [
        {
          "output_type": "execute_result",
          "data": {
            "text/plain": [
              "13"
            ]
          },
          "metadata": {},
          "execution_count": 13
        }
      ]
    },
    {
      "cell_type": "code",
      "source": [
        "match.end()"
      ],
      "metadata": {
        "colab": {
          "base_uri": "https://localhost:8080/"
        },
        "id": "RZsJqDCkB1l6",
        "outputId": "70c88951-7a3c-44be-9314-60e9b75c5614"
      },
      "execution_count": null,
      "outputs": [
        {
          "output_type": "execute_result",
          "data": {
            "text/plain": [
              "18"
            ]
          },
          "metadata": {},
          "execution_count": 14
        }
      ]
    },
    {
      "cell_type": "markdown",
      "metadata": {
        "id": "ISWG3Qk5QeWN"
      },
      "source": [
        "But what if the pattern occurs more than once?"
      ]
    },
    {
      "cell_type": "code",
      "source": [
        "text = \"my phone is a new phone\""
      ],
      "metadata": {
        "id": "QLTU1rwaB5r0"
      },
      "execution_count": null,
      "outputs": []
    },
    {
      "cell_type": "code",
      "source": [
        "match = re.search(pattern,text)"
      ],
      "metadata": {
        "id": "DtRnf3wXCBza"
      },
      "execution_count": null,
      "outputs": []
    },
    {
      "cell_type": "code",
      "source": [
        "match.span()"
      ],
      "metadata": {
        "colab": {
          "base_uri": "https://localhost:8080/"
        },
        "id": "ELHycEbXCIxi",
        "outputId": "77dbef63-df97-43de-ebde-b4b976f5c6a5"
      },
      "execution_count": null,
      "outputs": [
        {
          "output_type": "execute_result",
          "data": {
            "text/plain": [
              "(3, 8)"
            ]
          },
          "metadata": {},
          "execution_count": 18
        }
      ]
    },
    {
      "cell_type": "markdown",
      "metadata": {
        "id": "UdQE2f2tQeWO"
      },
      "source": [
        "Notice it only matches the first instance. If we wanted a list of all matches, we can use .findall() method:"
      ]
    },
    {
      "cell_type": "code",
      "source": [
        "matches = re.findall('phone',text)"
      ],
      "metadata": {
        "id": "QZEUnOfKCRNG"
      },
      "execution_count": null,
      "outputs": []
    },
    {
      "cell_type": "code",
      "source": [
        "matches"
      ],
      "metadata": {
        "colab": {
          "base_uri": "https://localhost:8080/"
        },
        "id": "lqJPCxEQCX5P",
        "outputId": "bb2af955-2cc1-4c73-d6c0-4bb237fa135b"
      },
      "execution_count": null,
      "outputs": [
        {
          "output_type": "execute_result",
          "data": {
            "text/plain": [
              "['phone', 'phone']"
            ]
          },
          "metadata": {},
          "execution_count": 22
        }
      ]
    },
    {
      "cell_type": "markdown",
      "metadata": {
        "id": "ZVIBEya5QeWP"
      },
      "source": [
        "To get actual match objects, use the iterator:"
      ]
    },
    {
      "cell_type": "code",
      "source": [
        "for match in re.finditer('phone',text):\n",
        "  print(match.span())"
      ],
      "metadata": {
        "colab": {
          "base_uri": "https://localhost:8080/"
        },
        "id": "uXYD0ajSCko3",
        "outputId": "4e6b9d10-e8ae-4c7b-caf1-764c07829078"
      },
      "execution_count": null,
      "outputs": [
        {
          "output_type": "stream",
          "name": "stdout",
          "text": [
            "(3, 8)\n",
            "(18, 23)\n"
          ]
        }
      ]
    },
    {
      "cell_type": "markdown",
      "metadata": {
        "id": "weLvBp1OQeWQ"
      },
      "source": [
        "If you wanted the actual text that matched, you can use the .group() method."
      ]
    },
    {
      "cell_type": "code",
      "source": [
        "match.group()"
      ],
      "metadata": {
        "colab": {
          "base_uri": "https://localhost:8080/",
          "height": 35
        },
        "id": "RLh0U-SdC5o8",
        "outputId": "cc73416b-8d18-4141-a403-841bb22e99fd"
      },
      "execution_count": null,
      "outputs": [
        {
          "output_type": "execute_result",
          "data": {
            "text/plain": [
              "'phone'"
            ],
            "application/vnd.google.colaboratory.intrinsic+json": {
              "type": "string"
            }
          },
          "metadata": {},
          "execution_count": 24
        }
      ]
    },
    {
      "cell_type": "markdown",
      "metadata": {
        "id": "mpiSoVu-QeWQ"
      },
      "source": [
        "# Patterns\n",
        "\n",
        "So far we've learned how to search for a basic string. What about more complex examples? Such as trying to find a telephone number in a large string of text? Or an email address?\n",
        "\n",
        "We could just use search method if we know the exact phone or email, but what if we don't know it? We may know the general format, and we can use that along with regular expressions to search the document for strings that match a particular pattern.\n",
        "\n",
        "This is where the syntax may appear strange at first, but take your time with this, often its just a matter of looking up the pattern code.\n",
        "\n",
        "Let' begin!"
      ]
    },
    {
      "cell_type": "markdown",
      "metadata": {
        "id": "I4d1mYNAQeWR"
      },
      "source": [
        "## Identifiers for Characters in Patterns\n",
        "\n",
        "Characters such as a digit or a single string have different codes that represent them. You can use these to build up a pattern string. Notice how these make heavy use of the backwards slash \\ . Because of this when defining a pattern string for regular expression we use the format:\n",
        "\n",
        "    r'mypattern'\n",
        "    \n",
        "placing the r in front of the string allows python to understand that the \\ in the pattern string are not meant to be escape slashes.\n",
        "\n",
        "Below you can find a table of all the possible identifiers:"
      ]
    },
    {
      "cell_type": "markdown",
      "metadata": {
        "id": "EDm_BT5VQeWR"
      },
      "source": [
        "<table ><tr><th>Character</th><th>Description</th><th>Example Pattern Code</th><th >Exammple Match</th></tr>\n",
        "\n",
        "<tr ><td><span >\\d</span></td><td>A digit</td><td>file_\\d\\d</td><td>file_25</td></tr>\n",
        "\n",
        "<tr ><td><span >\\w</span></td><td>Alphanumeric</td><td>\\w-\\w\\w\\w</td><td>A-b_1</td></tr>\n",
        "\n",
        "\n",
        "\n",
        "<tr ><td><span >\\s</span></td><td>White space</td><td>a\\sb\\sc</td><td>a b c</td></tr>\n",
        "\n",
        "\n",
        "\n",
        "<tr ><td><span >\\D</span></td><td>A non digit</td><td>\\D\\D\\D</td><td>ABC</td></tr>\n",
        "\n",
        "<tr ><td><span >\\W</span></td><td>Non-alphanumeric</td><td>\\W\\W\\W\\W\\W</td><td>*-+=)</td></tr>\n",
        "\n",
        "<tr ><td><span >\\S</span></td><td>Non-whitespace</td><td>\\S\\S\\S\\S</td><td>Yoyo</td></tr></table>"
      ]
    },
    {
      "cell_type": "markdown",
      "metadata": {
        "id": "gM6vsFkaQeWR"
      },
      "source": [
        "For example:"
      ]
    },
    {
      "cell_type": "code",
      "source": [
        "text = 'My telephone number is 408-555-1234'"
      ],
      "metadata": {
        "id": "yYTVCDKNDePc"
      },
      "execution_count": null,
      "outputs": []
    },
    {
      "cell_type": "code",
      "source": [
        "phone = re.search(r'\\d\\d\\d-\\d\\d\\d-\\d\\d\\d\\d',text)"
      ],
      "metadata": {
        "id": "g0BwKrChDlgP"
      },
      "execution_count": null,
      "outputs": []
    },
    {
      "cell_type": "code",
      "source": [
        "phone.group()"
      ],
      "metadata": {
        "colab": {
          "base_uri": "https://localhost:8080/",
          "height": 35
        },
        "id": "KqJKdItVD1II",
        "outputId": "d63e35fa-6d89-460b-f297-02dae0a466b8"
      },
      "execution_count": null,
      "outputs": [
        {
          "output_type": "execute_result",
          "data": {
            "text/plain": [
              "'408-555-1234'"
            ],
            "application/vnd.google.colaboratory.intrinsic+json": {
              "type": "string"
            }
          },
          "metadata": {},
          "execution_count": 27
        }
      ]
    },
    {
      "cell_type": "markdown",
      "metadata": {
        "id": "fyOdz0u3QeWS"
      },
      "source": [
        "Notice the repetition of \\d. That is a bit of an annoyance, especially if we are looking for very long strings of numbers. Let's explore the possible quantifiers.\n",
        "\n",
        "## Quantifiers\n",
        "\n",
        "Now that we know the special character designations, we can use them along with quantifiers to define how many we expect."
      ]
    },
    {
      "cell_type": "markdown",
      "metadata": {
        "id": "EFLdE3OxQeWT"
      },
      "source": [
        "<table ><tr><th>Character</th><th>Description</th><th>Example Pattern Code</th><th >Exammple Match</th></tr>\n",
        "\n",
        "<tr ><td><span >+</span></td><td>Occurs one or more times</td><td>\tVersion \\w-\\w+</td><td>Version A-b1_1</td></tr>\n",
        "\n",
        "<tr ><td><span >{3}</span></td><td>Occurs exactly 3 times</td><td>\\D{3}</td><td>abc</td></tr>\n",
        "\n",
        "\n",
        "\n",
        "<tr ><td><span >{2,4}</span></td><td>Occurs 2 to 4 times</td><td>\\d{2,4}</td><td>123</td></tr>\n",
        "\n",
        "\n",
        "\n",
        "<tr ><td><span >{3,}</span></td><td>Occurs 3 or more</td><td>\\w{3,}</td><td>anycharacters</td></tr>\n",
        "\n",
        "<tr ><td><span >\\*</span></td><td>Occurs zero or more times</td><td>A\\*B\\*C*</td><td>AAACC</td></tr>\n",
        "\n",
        "<tr ><td><span >?</span></td><td>Once or none</td><td>plurals?</td><td>plural</td></tr></table>"
      ]
    },
    {
      "cell_type": "markdown",
      "metadata": {
        "id": "_3TTRmxMQeWT"
      },
      "source": [
        "Let's rewrite our pattern using these quantifiers:"
      ]
    },
    {
      "cell_type": "code",
      "source": [
        "re.search(r'\\d{3}-\\d{3}-\\d{4}',text)"
      ],
      "metadata": {
        "colab": {
          "base_uri": "https://localhost:8080/"
        },
        "id": "V93ztSSgEN6G",
        "outputId": "13cd012d-3a51-40a7-b504-01648c5bb060"
      },
      "execution_count": null,
      "outputs": [
        {
          "output_type": "execute_result",
          "data": {
            "text/plain": [
              "<re.Match object; span=(23, 35), match='408-555-1234'>"
            ]
          },
          "metadata": {},
          "execution_count": 28
        }
      ]
    },
    {
      "cell_type": "markdown",
      "metadata": {
        "id": "JNW84DdHQeWT"
      },
      "source": [
        "## Groups\n",
        "\n",
        "What if we wanted to do two tasks, find phone numbers, but also be able to quickly extract their area code (the first three digits). We can use groups for any general task that involves grouping together regular expressions (so that we can later break them down). \n",
        "\n",
        "Using the phone number example, we can separate groups of regular expressions using parenthesis:"
      ]
    },
    {
      "cell_type": "code",
      "source": [
        "phone_pattern = re.compile(r'(\\d{3})-(\\d{3})-(\\d{4})')"
      ],
      "metadata": {
        "id": "Tpgep4PoE4s6"
      },
      "execution_count": null,
      "outputs": []
    },
    {
      "cell_type": "code",
      "source": [
        "results = re.search(phone_pattern,text)"
      ],
      "metadata": {
        "id": "XGflhfYBFCzE"
      },
      "execution_count": null,
      "outputs": []
    },
    {
      "cell_type": "code",
      "source": [
        "results.group()"
      ],
      "metadata": {
        "colab": {
          "base_uri": "https://localhost:8080/",
          "height": 35
        },
        "id": "LtbrXurWFLMk",
        "outputId": "e9055782-5b2c-4ef1-9df1-cf730090b725"
      },
      "execution_count": null,
      "outputs": [
        {
          "output_type": "execute_result",
          "data": {
            "text/plain": [
              "'408-555-1234'"
            ],
            "application/vnd.google.colaboratory.intrinsic+json": {
              "type": "string"
            }
          },
          "metadata": {},
          "execution_count": 48
        }
      ]
    },
    {
      "cell_type": "code",
      "source": [
        "results.group(1)"
      ],
      "metadata": {
        "colab": {
          "base_uri": "https://localhost:8080/",
          "height": 35
        },
        "id": "x1EtM8GDFP4h",
        "outputId": "34cf44dc-9cce-4eba-df73-a1e99795211f"
      },
      "execution_count": null,
      "outputs": [
        {
          "output_type": "execute_result",
          "data": {
            "text/plain": [
              "'408'"
            ],
            "application/vnd.google.colaboratory.intrinsic+json": {
              "type": "string"
            }
          },
          "metadata": {},
          "execution_count": 49
        }
      ]
    },
    {
      "cell_type": "code",
      "source": [
        "results.group(2)"
      ],
      "metadata": {
        "colab": {
          "base_uri": "https://localhost:8080/",
          "height": 35
        },
        "id": "qKgJ2aldFzcW",
        "outputId": "b932bce8-19b6-4db9-ae0f-92aaecabd75c"
      },
      "execution_count": null,
      "outputs": [
        {
          "output_type": "execute_result",
          "data": {
            "text/plain": [
              "'555'"
            ],
            "application/vnd.google.colaboratory.intrinsic+json": {
              "type": "string"
            }
          },
          "metadata": {},
          "execution_count": 50
        }
      ]
    },
    {
      "cell_type": "markdown",
      "metadata": {
        "id": "BKLyzDr1QeWW"
      },
      "source": [
        "## Additional Regex Syntax\n",
        "\n",
        "### Or operator |\n",
        "\n",
        "Use the pipe operator to have an **or** statment. For example"
      ]
    },
    {
      "cell_type": "code",
      "source": [
        "re.search(r\"man|woman\",\"This man was here.\")"
      ],
      "metadata": {
        "colab": {
          "base_uri": "https://localhost:8080/"
        },
        "id": "H897pBQjFO9H",
        "outputId": "a48cdd6f-b187-4ad8-c898-16a661260d15"
      },
      "execution_count": null,
      "outputs": [
        {
          "output_type": "execute_result",
          "data": {
            "text/plain": [
              "<re.Match object; span=(5, 8), match='man'>"
            ]
          },
          "metadata": {},
          "execution_count": 54
        }
      ]
    },
    {
      "cell_type": "code",
      "source": [
        "re.search(r\"man|woman\",\"This woman was here.\")"
      ],
      "metadata": {
        "colab": {
          "base_uri": "https://localhost:8080/"
        },
        "id": "YSplhdRZGrfR",
        "outputId": "b64e5fb9-0379-49b0-9879-9646d47e4f6b"
      },
      "execution_count": null,
      "outputs": [
        {
          "output_type": "execute_result",
          "data": {
            "text/plain": [
              "<re.Match object; span=(5, 10), match='woman'>"
            ]
          },
          "metadata": {},
          "execution_count": 52
        }
      ]
    },
    {
      "cell_type": "markdown",
      "metadata": {
        "id": "jEZ7PHTrQeWW"
      },
      "source": [
        "### The Wildcard Character\n",
        "\n",
        "Use a \"wildcard\" as a placement that will match any character placed there. You can use a simple period **.** for this. For example:"
      ]
    },
    {
      "cell_type": "code",
      "source": [
        "re.findall(r\".at\",\"The cat in the hat sat here.\")"
      ],
      "metadata": {
        "colab": {
          "base_uri": "https://localhost:8080/"
        },
        "id": "8l_2REXqHFLQ",
        "outputId": "60cf5c3c-d55d-4c07-9f4f-ec8528809c71"
      },
      "execution_count": null,
      "outputs": [
        {
          "output_type": "execute_result",
          "data": {
            "text/plain": [
              "['cat', 'hat', 'sat']"
            ]
          },
          "metadata": {},
          "execution_count": 55
        }
      ]
    },
    {
      "cell_type": "code",
      "source": [
        "re.findall(r\"at.\",\"They ate the soemthing.\")"
      ],
      "metadata": {
        "colab": {
          "base_uri": "https://localhost:8080/"
        },
        "id": "rSE6l57KHYhr",
        "outputId": "f9d50ea2-dec0-40e1-ba77-313cf20905b1"
      },
      "execution_count": null,
      "outputs": [
        {
          "output_type": "execute_result",
          "data": {
            "text/plain": [
              "['ate']"
            ]
          },
          "metadata": {},
          "execution_count": 56
        }
      ]
    },
    {
      "cell_type": "markdown",
      "metadata": {
        "id": "TK2QWjaOQeWX"
      },
      "source": [
        "Notice how we only matched the first 3 letters, that is because we need a **.** for each wildcard letter. Or use the quantifiers described above to set its own rules."
      ]
    },
    {
      "cell_type": "code",
      "source": [
        "re.findall(r\"...at\",\"The bat went splat.\")"
      ],
      "metadata": {
        "colab": {
          "base_uri": "https://localhost:8080/"
        },
        "id": "GazS_FGIHpbr",
        "outputId": "862cffca-edad-4a35-9ee8-f5f40520adff"
      },
      "execution_count": null,
      "outputs": [
        {
          "output_type": "execute_result",
          "data": {
            "text/plain": [
              "['e bat', 'splat']"
            ]
          },
          "metadata": {},
          "execution_count": 57
        }
      ]
    },
    {
      "cell_type": "markdown",
      "metadata": {
        "id": "TaTo3ZaNQeWX"
      },
      "source": [
        "However this still leads the problem to grabbing more beforehand. Really we only want words that end with \"at\"."
      ]
    },
    {
      "cell_type": "markdown",
      "metadata": {
        "id": "BvT2rO8BQeWY"
      },
      "source": [
        "### Starts with and Ends With\n",
        "\n",
        "We can use the **^** to signal starts with, and the **$** to signal ends with:"
      ]
    },
    {
      "cell_type": "code",
      "source": [
        "re.findall(r'\\d$','This ends with a number 2' )"
      ],
      "metadata": {
        "colab": {
          "base_uri": "https://localhost:8080/"
        },
        "id": "dUCnVNG6H-RV",
        "outputId": "03c90dbc-b100-477f-dfa3-4be7c017e4fd"
      },
      "execution_count": null,
      "outputs": [
        {
          "output_type": "execute_result",
          "data": {
            "text/plain": [
              "['2']"
            ]
          },
          "metadata": {},
          "execution_count": 58
        }
      ]
    },
    {
      "cell_type": "code",
      "source": [
        "re.findall(r'^\\d','1 This start with a number' )"
      ],
      "metadata": {
        "colab": {
          "base_uri": "https://localhost:8080/"
        },
        "id": "dGUnVyZBIVm1",
        "outputId": "b65f37cf-9ad7-445f-aa90-9c657e02a8db"
      },
      "execution_count": null,
      "outputs": [
        {
          "output_type": "execute_result",
          "data": {
            "text/plain": [
              "['1']"
            ]
          },
          "metadata": {},
          "execution_count": 59
        }
      ]
    },
    {
      "cell_type": "markdown",
      "metadata": {
        "id": "VV9PN1_iQeWY"
      },
      "source": [
        "Note that this is for the entire string, not individual words!"
      ]
    },
    {
      "cell_type": "markdown",
      "metadata": {
        "id": "IE1zWMQJQeWZ"
      },
      "source": [
        "### Exclusion\n",
        "\n",
        "To exclude characters, we can use the **^** symbol in conjunction with a set of brackets **[]**. Anything inside the brackets is excluded. For example:"
      ]
    },
    {
      "cell_type": "markdown",
      "metadata": {
        "id": "wzSvPjjcQeWZ"
      },
      "source": [
        "To get the words back together, use a + sign "
      ]
    },
    {
      "cell_type": "markdown",
      "metadata": {
        "id": "8Z36tumlQeWa"
      },
      "source": [
        "We can use this to remove punctuation from a sentence."
      ]
    },
    {
      "cell_type": "code",
      "execution_count": null,
      "metadata": {
        "id": "DGiS7LyJQeWa",
        "outputId": "5653dfec-46b3-491e-802d-8c2e2b98e539"
      },
      "outputs": [
        {
          "data": {
            "text/plain": [
              "'This is a string But it has punctuation How can we remove it'"
            ]
          },
          "execution_count": 47,
          "metadata": {},
          "output_type": "execute_result"
        }
      ],
      "source": [
        "clean"
      ]
    },
    {
      "cell_type": "markdown",
      "metadata": {
        "id": "jxHZCh1pQeWb"
      },
      "source": [
        "## Brackets for Grouping\n",
        "\n",
        "As we showed above we can use brackets to group together options, for example if we wanted to find hyphenated words:"
      ]
    },
    {
      "cell_type": "markdown",
      "metadata": {
        "id": "2Shw8rMmQeWb"
      },
      "source": [
        "## Parenthesis for Multiple Options\n",
        "\n",
        "If we have multiple options for matching, we can use parenthesis to list out these options. For Example:"
      ]
    },
    {
      "cell_type": "markdown",
      "metadata": {
        "id": "XqEForqwQeWc"
      },
      "source": [
        "### Conclusion\n",
        "\n",
        "Excellent work! For full information on all possible patterns, check out: https://docs.python.org/3/howto/regex.html"
      ]
    },
    {
      "cell_type": "markdown",
      "metadata": {
        "id": "hi8DGq5SQeWc"
      },
      "source": [
        "____"
      ]
    }
  ],
  "metadata": {
    "kernelspec": {
      "display_name": "Python 3",
      "language": "python",
      "name": "python3"
    },
    "language_info": {
      "codemirror_mode": {
        "name": "ipython",
        "version": 3
      },
      "file_extension": ".py",
      "mimetype": "text/x-python",
      "name": "python",
      "nbconvert_exporter": "python",
      "pygments_lexer": "ipython3",
      "version": "3.6.6"
    },
    "colab": {
      "name": "Overview_of_Regular_Expressions.ipynb",
      "provenance": [],
      "include_colab_link": true
    }
  },
  "nbformat": 4,
  "nbformat_minor": 0
}