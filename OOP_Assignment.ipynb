{
  "cells": [
    {
      "cell_type": "markdown",
      "metadata": {
        "id": "view-in-github",
        "colab_type": "text"
      },
      "source": [
        "<a href=\"https://colab.research.google.com/github/kmeiyalagan/hashicat-gcp/blob/master/OOP_Assignment.ipynb\" target=\"_parent\"><img src=\"https://colab.research.google.com/assets/colab-badge.svg\" alt=\"Open In Colab\"/></a>"
      ]
    },
    {
      "cell_type": "markdown",
      "metadata": {
        "id": "6IwqQAqWUCfj"
      },
      "source": [
        "# Object Oriented Programming Challenge\n",
        "\n",
        "For this challenge, create a bank account class that has two attributes:\n",
        "\n",
        "* owner\n",
        "* balance\n",
        "\n",
        "and two methods:\n",
        "\n",
        "* deposit\n",
        "* withdraw\n",
        "\n",
        "As an added requirement, withdrawals may not exceed the available balance.\n",
        "\n",
        "Instantiate your class, make several deposits and withdrawals, and test to make sure the account can't be overdrawn."
      ]
    },
    {
      "cell_type": "code",
      "execution_count": 34,
      "metadata": {
        "collapsed": true,
        "id": "pcTs9wOvUCfq",
        "outputId": "d518f718-1295-4d76-f63e-fcf1c7f5c8dc",
        "colab": {
          "base_uri": "https://localhost:8080/",
          "height": 374
        }
      },
      "outputs": [
        {
          "name": "stdout",
          "output_type": "stream",
          "text": [
            "Hello!!! Welcome to the Deposit & Withdrawal Machine\n",
            "Enter amount to be Deposited: 100\n",
            "Enter Owner name: asd\n"
          ]
        },
        {
          "output_type": "error",
          "ename": "TypeError",
          "evalue": "ignored",
          "traceback": [
            "\u001b[0;31m---------------------------------------------------------------------------\u001b[0m",
            "\u001b[0;31mTypeError\u001b[0m                                 Traceback (most recent call last)",
            "\u001b[0;32m<ipython-input-34-bae1d60b3790>\u001b[0m in \u001b[0;36m<module>\u001b[0;34m()\u001b[0m\n\u001b[1;32m     24\u001b[0m \u001b[0;34m\u001b[0m\u001b[0m\n\u001b[1;32m     25\u001b[0m \u001b[0ms\u001b[0m \u001b[0;34m=\u001b[0m \u001b[0mBank_Account\u001b[0m\u001b[0;34m(\u001b[0m\u001b[0;34m)\u001b[0m\u001b[0;34m\u001b[0m\u001b[0;34m\u001b[0m\u001b[0m\n\u001b[0;32m---> 26\u001b[0;31m \u001b[0ms\u001b[0m\u001b[0;34m.\u001b[0m\u001b[0mdeposit\u001b[0m\u001b[0;34m(\u001b[0m\u001b[0;34m)\u001b[0m\u001b[0;34m\u001b[0m\u001b[0;34m\u001b[0m\u001b[0m\n\u001b[0m",
            "\u001b[0;32m<ipython-input-34-bae1d60b3790>\u001b[0m in \u001b[0;36mdeposit\u001b[0;34m(self)\u001b[0m\n\u001b[1;32m     10\u001b[0m         \u001b[0mself\u001b[0m\u001b[0;34m.\u001b[0m\u001b[0mbalance\u001b[0m \u001b[0;34m+=\u001b[0m \u001b[0mamount\u001b[0m\u001b[0;34m\u001b[0m\u001b[0;34m\u001b[0m\u001b[0m\n\u001b[1;32m     11\u001b[0m         \u001b[0mself\u001b[0m\u001b[0;34m.\u001b[0m\u001b[0mowner\u001b[0m \u001b[0;34m=\u001b[0m \u001b[0mowner\u001b[0m\u001b[0;34m\u001b[0m\u001b[0;34m\u001b[0m\u001b[0m\n\u001b[0;32m---> 12\u001b[0;31m         \u001b[0mprint\u001b[0m\u001b[0;34m(\u001b[0m\u001b[0;34m\" %owner Deposited %balance:\"\u001b[0m \u001b[0;34m%\u001b[0m\u001b[0;34m(\u001b[0m\u001b[0mowner\u001b[0m\u001b[0;34m,\u001b[0m\u001b[0;34m\"ABC\"\u001b[0m\u001b[0;34m)\u001b[0m\u001b[0;34m)\u001b[0m\u001b[0;34m\u001b[0m\u001b[0;34m\u001b[0m\u001b[0m\n\u001b[0m\u001b[1;32m     13\u001b[0m \u001b[0;34m\u001b[0m\u001b[0m\n\u001b[1;32m     14\u001b[0m     \u001b[0;32mdef\u001b[0m \u001b[0mwithdraw\u001b[0m\u001b[0;34m(\u001b[0m\u001b[0mself\u001b[0m\u001b[0;34m)\u001b[0m\u001b[0;34m:\u001b[0m\u001b[0;34m\u001b[0m\u001b[0;34m\u001b[0m\u001b[0m\n",
            "\u001b[0;31mTypeError\u001b[0m: %o format: an integer is required, not str"
          ]
        }
      ],
      "source": [
        "class Bank_Account:\n",
        "    def __init__(self):\n",
        "        self.balance=0\n",
        "        self.owner=''\n",
        "        print(\"Hello!!! Welcome to the Deposit & Withdrawal Machine\")\n",
        " \n",
        "    def deposit(self):\n",
        "        amount=float(input(\"Enter amount to be Deposited: \"))\n",
        "        owner=input(\"Enter Owner name: \")\n",
        "        self.balance += amount\n",
        "        self.owner = owner\n",
        "        print(\" %owner Deposited %balance:\" %(owner,\"ABC\"))\n",
        " \n",
        "    def withdraw(self):\n",
        "        amount = float(input(\"Enter amount to be Withdrawn: \"))\n",
        "        if self.balance>=amount:\n",
        "            self.balance-=amount\n",
        "            print(\"\\n You Withdrew:\", amount)\n",
        "        else:\n",
        "            print(\"\\n Insufficient balance  \")\n",
        " \n",
        "    def display(self):\n",
        "        print(\"\\n Net Available Balance=\",self.balance)\n",
        "\n",
        "s = Bank_Account()\n",
        "s.deposit()"
      ]
    },
    {
      "cell_type": "code",
      "execution_count": 8,
      "metadata": {
        "collapsed": true,
        "id": "2Pp9A72XUCfs"
      },
      "outputs": [],
      "source": [
        "# 1. Instantiate the class\n",
        "#acct1 = Account('Jose',100)\n"
      ]
    },
    {
      "cell_type": "code",
      "execution_count": null,
      "metadata": {
        "id": "gXvvBQxhUCft",
        "outputId": "b04bfad5-b965-4f33-ba83-091a392a1c4e"
      },
      "outputs": [
        {
          "name": "stdout",
          "output_type": "stream",
          "text": [
            "Account owner:   Jose\n",
            "Account balance: $100\n"
          ]
        }
      ],
      "source": [
        "# 2. Print the object\n",
        "print(acct1)"
      ]
    },
    {
      "cell_type": "code",
      "execution_count": null,
      "metadata": {
        "id": "ZHoZjZfLUCfu",
        "outputId": "7b0cbc5a-3933-42bf-d8c8-4a6176568528"
      },
      "outputs": [
        {
          "data": {
            "text/plain": [
              "'Jose'"
            ]
          },
          "execution_count": 4,
          "metadata": {},
          "output_type": "execute_result"
        }
      ],
      "source": [
        "# 3. Show the account owner attribute\n",
        "acct1.owner"
      ]
    },
    {
      "cell_type": "code",
      "execution_count": null,
      "metadata": {
        "id": "D0mUUpJ-UCfv",
        "outputId": "d8664853-2e94-40d0-dde3-de64eb0f07a2"
      },
      "outputs": [
        {
          "data": {
            "text/plain": [
              "100"
            ]
          },
          "execution_count": 5,
          "metadata": {},
          "output_type": "execute_result"
        }
      ],
      "source": [
        "# 4. Show the account balance attribute\n",
        "acct1.balance"
      ]
    },
    {
      "cell_type": "code",
      "execution_count": null,
      "metadata": {
        "id": "WbsLPPGGUCfw",
        "outputId": "accbe86e-4203-4483-a4b0-d8b941ba2ea9"
      },
      "outputs": [
        {
          "name": "stdout",
          "output_type": "stream",
          "text": [
            "Deposit Accepted\n"
          ]
        }
      ],
      "source": [
        "# 5. Make a series of deposits and withdrawals\n",
        "acct1.deposit(50)"
      ]
    },
    {
      "cell_type": "code",
      "execution_count": null,
      "metadata": {
        "id": "ZU1QHLFqUCfx",
        "outputId": "50d07bd4-2e3b-4f54-add5-c8852ffc37c9"
      },
      "outputs": [
        {
          "name": "stdout",
          "output_type": "stream",
          "text": [
            "Withdrawal Accepted\n"
          ]
        }
      ],
      "source": [
        "acct1.withdraw(75)"
      ]
    },
    {
      "cell_type": "code",
      "execution_count": null,
      "metadata": {
        "id": "fA1buqCuUCfy",
        "outputId": "ad73a6d3-3722-4ac0-bea4-7c4a0c014e75"
      },
      "outputs": [
        {
          "name": "stdout",
          "output_type": "stream",
          "text": [
            "Funds Unavailable!\n"
          ]
        }
      ],
      "source": [
        "# 6. Make a withdrawal that exceeds the available balance\n",
        "acct1.withdraw(500)"
      ]
    },
    {
      "cell_type": "markdown",
      "metadata": {
        "id": "7_3oCB4NUCfz"
      },
      "source": [
        "## Good job!"
      ]
    }
  ],
  "metadata": {
    "kernelspec": {
      "display_name": "Python 3 (ipykernel)",
      "language": "python",
      "name": "python3"
    },
    "language_info": {
      "codemirror_mode": {
        "name": "ipython",
        "version": 3
      },
      "file_extension": ".py",
      "mimetype": "text/x-python",
      "name": "python",
      "nbconvert_exporter": "python",
      "pygments_lexer": "ipython3",
      "version": "3.9.7"
    },
    "colab": {
      "name": "OOP Assignment.ipynb",
      "provenance": [],
      "include_colab_link": true
    }
  },
  "nbformat": 4,
  "nbformat_minor": 0
}