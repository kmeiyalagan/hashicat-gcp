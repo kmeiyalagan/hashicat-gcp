{
  "cells": [
    {
      "cell_type": "markdown",
      "metadata": {
        "id": "view-in-github",
        "colab_type": "text"
      },
      "source": [
        "<a href=\"https://colab.research.google.com/github/kmeiyalagan/hashicat-gcp/blob/master/Datetime_Module.ipynb\" target=\"_parent\"><img src=\"https://colab.research.google.com/assets/colab-badge.svg\" alt=\"Open In Colab\"/></a>"
      ]
    },
    {
      "cell_type": "markdown",
      "metadata": {
        "id": "Hrc-KphKP0Bk"
      },
      "source": [
        "# datetime module\n",
        "\n",
        "Python has the datetime module to help deal with timestamps in your code. Time values are represented with the time class. Times have attributes for hour, minute, second, and microsecond. They can also include time zone information. The arguments to initialize a time instance are optional, but the default of 0 is unlikely to be what you want.\n",
        "\n",
        "## time\n",
        "Let's take a look at how we can extract time information from the datetime module. We can create a timestamp by specifying datetime.time(hour,minute,second,microsecond)"
      ]
    },
    {
      "cell_type": "code",
      "source": [
        "import datetime\n",
        "\n",
        "t  = datetime.time(4,20,1)\n",
        "\n",
        "# Different Components\n",
        "print(t)\n",
        "print('hour: ',t.hour)\n",
        "print('minutes: ',t.minute)\n",
        "print('second: ',t.second)\n",
        "print('microsecond: ',t.microsecond)"
      ],
      "metadata": {
        "colab": {
          "base_uri": "https://localhost:8080/"
        },
        "id": "TO0jUK5x5yxX",
        "outputId": "1b69fef0-e48b-4d96-b761-5b9e763e37c6"
      },
      "execution_count": 4,
      "outputs": [
        {
          "output_type": "stream",
          "name": "stdout",
          "text": [
            "04:20:01\n",
            "hour:  4\n",
            "minutes:  20\n",
            "second:  1\n",
            "microsecond:  0\n"
          ]
        }
      ]
    },
    {
      "cell_type": "markdown",
      "metadata": {
        "id": "bJjg6dtSP0Bm"
      },
      "source": [
        "Note: A time instance only holds values of time, and not a date associated with the time. \n",
        "\n",
        "We can also check the min and max values a time of day can have in the module:"
      ]
    },
    {
      "cell_type": "code",
      "source": [
        "print('min :',datetime.time.min)\n",
        "print('max :',datetime.time.max)\n",
        "print('resolution :',datetime.time.resolution)"
      ],
      "metadata": {
        "colab": {
          "base_uri": "https://localhost:8080/"
        },
        "id": "IdX-3dJD6o6u",
        "outputId": "7fb4d63b-6f1a-444a-b60f-d2b042071a8a"
      },
      "execution_count": 5,
      "outputs": [
        {
          "output_type": "stream",
          "name": "stdout",
          "text": [
            "min : 00:00:00\n",
            "max : 23:59:59.999999\n",
            "resolution : 0:00:00.000001\n"
          ]
        }
      ]
    },
    {
      "cell_type": "markdown",
      "metadata": {
        "id": "RhRpepmqP0Bn"
      },
      "source": [
        "The min and max class attributes reflect the valid range of times in a single day."
      ]
    },
    {
      "cell_type": "markdown",
      "metadata": {
        "id": "qnuEwk7VP0Bo"
      },
      "source": [
        "## Dates\n",
        "datetime (as you might suspect) also allows us to work with date timestamps. Calendar date values are represented with the date class. Instances have attributes for year, month, and day. It is easy to create a date representing today’s date using the today() class method.\n",
        "\n",
        "Let's see some examples:"
      ]
    },
    {
      "cell_type": "code",
      "source": [
        "today = datetime.date.today()\n",
        "print(today)\n",
        "print(today.ctime())\n",
        "print(today.timetuple())"
      ],
      "metadata": {
        "colab": {
          "base_uri": "https://localhost:8080/"
        },
        "id": "IWVRk16v73e-",
        "outputId": "2836b34d-9781-469f-e261-85a06631ad3a"
      },
      "execution_count": 6,
      "outputs": [
        {
          "output_type": "stream",
          "name": "stdout",
          "text": [
            "2022-04-02\n",
            "Sat Apr  2 00:00:00 2022\n",
            "time.struct_time(tm_year=2022, tm_mon=4, tm_mday=2, tm_hour=0, tm_min=0, tm_sec=0, tm_wday=5, tm_yday=92, tm_isdst=-1)\n"
          ]
        }
      ]
    },
    {
      "cell_type": "code",
      "source": [
        "today.year"
      ],
      "metadata": {
        "colab": {
          "base_uri": "https://localhost:8080/"
        },
        "id": "EFIWqvMS876g",
        "outputId": "8b6a1883-d5c9-48fc-dbfe-1374eea74ba9"
      },
      "execution_count": null,
      "outputs": [
        {
          "output_type": "execute_result",
          "data": {
            "text/plain": [
              "2022"
            ]
          },
          "metadata": {},
          "execution_count": 10
        }
      ]
    },
    {
      "cell_type": "code",
      "source": [
        "today.month"
      ],
      "metadata": {
        "colab": {
          "base_uri": "https://localhost:8080/"
        },
        "id": "TDoljn6y87WN",
        "outputId": "e03f9542-4b30-49fb-9b2a-e06d19f9dd3c"
      },
      "execution_count": null,
      "outputs": [
        {
          "output_type": "execute_result",
          "data": {
            "text/plain": [
              "4"
            ]
          },
          "metadata": {},
          "execution_count": 11
        }
      ]
    },
    {
      "cell_type": "code",
      "source": [
        "today.day"
      ],
      "metadata": {
        "colab": {
          "base_uri": "https://localhost:8080/"
        },
        "id": "Gda-igFw9BmJ",
        "outputId": "7e4e84b1-6890-4cd2-c502-f399fad0c690"
      },
      "execution_count": null,
      "outputs": [
        {
          "output_type": "execute_result",
          "data": {
            "text/plain": [
              "2"
            ]
          },
          "metadata": {},
          "execution_count": 12
        }
      ]
    },
    {
      "cell_type": "code",
      "source": [
        "today.weekday"
      ],
      "metadata": {
        "colab": {
          "base_uri": "https://localhost:8080/"
        },
        "id": "2rp4gi049FeV",
        "outputId": "901b1213-e3a3-4317-826e-045177263c4c"
      },
      "execution_count": null,
      "outputs": [
        {
          "output_type": "execute_result",
          "data": {
            "text/plain": [
              "<function date.weekday>"
            ]
          },
          "metadata": {},
          "execution_count": 18
        }
      ]
    },
    {
      "cell_type": "markdown",
      "metadata": {
        "id": "qJKilsGVP0Bp"
      },
      "source": [
        "As with time, the range of date values supported can be determined using the min and max attributes."
      ]
    },
    {
      "cell_type": "code",
      "source": [
        "print('min :',datetime.date.min)\n",
        "print('max :',datetime.date.max)\n",
        "print('resolution :',datetime.date.resolution)"
      ],
      "metadata": {
        "colab": {
          "base_uri": "https://localhost:8080/"
        },
        "id": "NuZMD54j9E5g",
        "outputId": "3de6931d-5808-4c25-c124-f7a7192ea8a7"
      },
      "execution_count": null,
      "outputs": [
        {
          "output_type": "stream",
          "name": "stdout",
          "text": [
            "min : 0001-01-01\n",
            "max : 9999-12-31\n",
            "resolution : 1 day, 0:00:00\n"
          ]
        }
      ]
    },
    {
      "cell_type": "markdown",
      "metadata": {
        "id": "_WtkkYfuP0Bp"
      },
      "source": [
        "Another way to create new date instances uses the replace() method of an existing date. For example, you can change the year, leaving the day and month alone."
      ]
    },
    {
      "cell_type": "code",
      "source": [
        "d1 = datetime.date(2015,3,11)\n",
        "print('d1: ',d1)\n",
        "\n",
        "d2 = d1.replace(year = 1990)\n",
        "print('d2: ',d2)"
      ],
      "metadata": {
        "colab": {
          "base_uri": "https://localhost:8080/"
        },
        "id": "ka-hEu7G-ukZ",
        "outputId": "71d7b343-b989-4a13-81c0-23ab1ba532df"
      },
      "execution_count": null,
      "outputs": [
        {
          "output_type": "stream",
          "name": "stdout",
          "text": [
            "d1:  2015-03-11\n",
            "d2:  1990-03-11\n"
          ]
        }
      ]
    },
    {
      "cell_type": "markdown",
      "metadata": {
        "id": "2akCnzYFP0Bq"
      },
      "source": [
        "# Arithmetic\n",
        "We can perform arithmetic on date objects to check for time differences. For example:"
      ]
    },
    {
      "cell_type": "code",
      "source": [
        "d1"
      ],
      "metadata": {
        "colab": {
          "base_uri": "https://localhost:8080/"
        },
        "id": "J0i73xOG_I2o",
        "outputId": "7c1ca519-bfbf-47cd-ae31-c540748e2ede"
      },
      "execution_count": null,
      "outputs": [
        {
          "output_type": "execute_result",
          "data": {
            "text/plain": [
              "datetime.date(2015, 3, 11)"
            ]
          },
          "metadata": {},
          "execution_count": 21
        }
      ]
    },
    {
      "cell_type": "code",
      "source": [
        "d2"
      ],
      "metadata": {
        "colab": {
          "base_uri": "https://localhost:8080/"
        },
        "id": "43BHOJG1_SVY",
        "outputId": "4476297a-747e-4cb8-fdd3-639f1bca21a3"
      },
      "execution_count": null,
      "outputs": [
        {
          "output_type": "execute_result",
          "data": {
            "text/plain": [
              "datetime.date(1990, 3, 11)"
            ]
          },
          "metadata": {},
          "execution_count": 22
        }
      ]
    },
    {
      "cell_type": "code",
      "source": [
        "d1-d2"
      ],
      "metadata": {
        "colab": {
          "base_uri": "https://localhost:8080/"
        },
        "id": "-TgEZK4-_VBY",
        "outputId": "f52e0e50-c800-4406-fa14-5082163a349b"
      },
      "execution_count": null,
      "outputs": [
        {
          "output_type": "execute_result",
          "data": {
            "text/plain": [
              "datetime.timedelta(days=9131)"
            ]
          },
          "metadata": {},
          "execution_count": 23
        }
      ]
    },
    {
      "cell_type": "markdown",
      "metadata": {
        "id": "QBdvHXthP0Bs"
      },
      "source": [
        "This gives us the difference in days between the two dates. You can use the timedelta method to specify various units of times (days, minutes, hours, etc.)\n",
        "\n"
      ]
    }
  ],
  "metadata": {
    "kernelspec": {
      "display_name": "Python 3",
      "language": "python",
      "name": "python3"
    },
    "language_info": {
      "codemirror_mode": {
        "name": "ipython",
        "version": 3
      },
      "file_extension": ".py",
      "mimetype": "text/x-python",
      "name": "python",
      "nbconvert_exporter": "python",
      "pygments_lexer": "ipython3",
      "version": "3.6.6"
    },
    "colab": {
      "name": "Datetime_Module.ipynb",
      "provenance": [],
      "include_colab_link": true
    }
  },
  "nbformat": 4,
  "nbformat_minor": 0
}